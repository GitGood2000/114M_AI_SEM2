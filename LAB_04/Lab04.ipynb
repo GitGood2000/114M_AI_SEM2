{
 "cells": [
  {
   "cell_type": "code",
   "execution_count": 1,
   "id": "d146eb16-ee8b-475a-bbbc-cf41d61703e5",
   "metadata": {},
   "outputs": [],
   "source": [
    "import numpy as np\n",
    "from matplotlib import pyplot as plt\n",
    "\n",
    "from data import Point_Generator"
   ]
  },
  {
   "cell_type": "code",
   "execution_count": 2,
   "id": "f58b982e-ea13-4ac3-916d-ac2098084df0",
   "metadata": {},
   "outputs": [],
   "source": [
    "pgen = Point_Generator(100, 0.1)"
   ]
  },
  {
   "cell_type": "code",
   "execution_count": 8,
   "id": "9f4268e1-2435-4a05-9ac9-16bb2edb4c9e",
   "metadata": {},
   "outputs": [
    {
     "name": "stdout",
     "output_type": "stream",
     "text": [
      "None\n"
     ]
    }
   ],
   "source": [
    "data = pgen.generate_case()"
   ]
  },
  {
   "cell_type": "code",
   "execution_count": 5,
   "id": "539a602f-c987-4fa1-a223-460e8d3a948e",
   "metadata": {},
   "outputs": [
    {
     "ename": "TypeError",
     "evalue": "'NoneType' object is not subscriptable",
     "output_type": "error",
     "traceback": [
      "\u001b[1;31m---------------------------------------------------------------------------\u001b[0m",
      "\u001b[1;31mTypeError\u001b[0m                                 Traceback (most recent call last)",
      "Cell \u001b[1;32mIn[5], line 1\u001b[0m\n\u001b[1;32m----> 1\u001b[0m plt\u001b[39m.\u001b[39mscatter(data[\u001b[39m0\u001b[39;49m], data[\u001b[39m1\u001b[39m])\n",
      "\u001b[1;31mTypeError\u001b[0m: 'NoneType' object is not subscriptable"
     ]
    }
   ],
   "source": [
    "plt.scatter(data.T[0], data.T[1])"
   ]
  },
  {
   "cell_type": "code",
   "execution_count": null,
   "id": "c2564a34-7e6a-473e-bd3c-1c62cacdaa82",
   "metadata": {},
   "outputs": [],
   "source": []
  }
 ],
 "metadata": {
  "kernelspec": {
   "display_name": "Python 3 (ipykernel)",
   "language": "python",
   "name": "python3"
  },
  "language_info": {
   "codemirror_mode": {
    "name": "ipython",
    "version": 3
   },
   "file_extension": ".py",
   "mimetype": "text/x-python",
   "name": "python",
   "nbconvert_exporter": "python",
   "pygments_lexer": "ipython3",
   "version": "3.9.15"
  }
 },
 "nbformat": 4,
 "nbformat_minor": 5
}
