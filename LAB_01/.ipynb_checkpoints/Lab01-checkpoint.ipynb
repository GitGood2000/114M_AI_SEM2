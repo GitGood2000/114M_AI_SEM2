{
 "cells": [
  {
   "cell_type": "markdown",
   "id": "42461ebc-aa2a-40f9-a832-d7994d39bb78",
   "metadata": {},
   "source": [
    "# Лабораторная работа 1\n",
    "## Метрические Алгоритмы\n",
    "\n",
    "Задание 1: Применить метод K ближайших соседей (ядерный), взвешенный алгоритмом STOLP для пяти классов, сгенерированных с помощью MyClassification\n",
    "\n",
    "Задание 2*: для сгенерированного вами Датасета, сгенерировать профиль компактности\n",
    "\n",
    "Задание 3: для сгенерированного вами Датасета, произвести оптимизацию по выбору ширины окна\n",
    "\n",
    "Задание 4: найти датасет с картинками (2-3 класса) небольшой (100 картинок достаточно)\n",
    "\n",
    "Найти метод библиотеку для построения embedding (векторизации) изображений ()\n",
    "Применить этот метод для своих картинок\n",
    "Применить без оптимизации kNN для полученного датасета из векторизванных картинок\n",
    "\n",
    "Задание 5*: Сфотографируйте свои фотографии (2-3) и повторите Задание 4 с ними."
   ]
  },
  {
   "cell_type": "code",
   "execution_count": null,
   "id": "4fbbdba6-b01b-4ecd-bf22-b64206be60f2",
   "metadata": {},
   "outputs": [],
   "source": []
  }
 ],
 "metadata": {
  "kernelspec": {
   "display_name": "Python [conda env:MAI_114M] *",
   "language": "python",
   "name": "conda-env-MAI_114M-py"
  },
  "language_info": {
   "codemirror_mode": {
    "name": "ipython",
    "version": 3
   },
   "file_extension": ".py",
   "mimetype": "text/x-python",
   "name": "python",
   "nbconvert_exporter": "python",
   "pygments_lexer": "ipython3",
   "version": "3.7.12"
  }
 },
 "nbformat": 4,
 "nbformat_minor": 5
}
